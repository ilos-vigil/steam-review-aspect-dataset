{
 "cells": [
  {
   "cell_type": "markdown",
   "metadata": {},
   "source": [
    "Notes, \n",
    "\n",
    "* Batch size 8 used by all models for consistency sake."
   ]
  },
  {
   "cell_type": "code",
   "execution_count": 1,
   "metadata": {},
   "outputs": [
    {
     "name": "stdout",
     "output_type": "stream",
     "text": [
      "env: TOKENIZERS_PARALLELISM=false\n"
     ]
    }
   ],
   "source": [
    "# disable persistant warning shown by tokenizers\n",
    "%set_env TOKENIZERS_PARALLELISM=false"
   ]
  },
  {
   "cell_type": "code",
   "execution_count": 2,
   "metadata": {},
   "outputs": [
    {
     "name": "stderr",
     "output_type": "stream",
     "text": [
      "/mnt/db4/Git/srec/steam-review-aspect-dataset-github/.venv/lib/python3.10/site-packages/sentence_transformers/cross_encoder/CrossEncoder.py:11: TqdmExperimentalWarning: Using `tqdm.autonotebook.tqdm` in notebook mode. Use `tqdm.tqdm` instead to force console mode (e.g. in jupyter console)\n",
      "  from tqdm.autonotebook import tqdm, trange\n",
      "2024-05-31 03:16:59.244781: I tensorflow/core/platform/cpu_feature_guard.cc:210] This TensorFlow binary is optimized to use available CPU instructions in performance-critical operations.\n",
      "To enable the following instructions: AVX2 FMA, in other operations, rebuild TensorFlow with the appropriate compiler flags.\n",
      "2024-05-31 03:17:00.307941: W tensorflow/compiler/tf2tensorrt/utils/py_utils.cc:38] TF-TRT Warning: Could not find TensorRT\n"
     ]
    }
   ],
   "source": [
    "import gc\n",
    "import torch\n",
    "import numpy as np\n",
    "import pandas as pd\n",
    "from sentence_transformers import SentenceTransformer\n",
    "from sklearn.linear_model import LogisticRegression\n",
    "from sklearn.metrics import (\n",
    "    accuracy_score,\n",
    "    f1_score,\n",
    "    classification_report,\n",
    ")\n",
    "from sklearn.multiclass import OneVsRestClassifier"
   ]
  },
  {
   "cell_type": "code",
   "execution_count": 3,
   "metadata": {},
   "outputs": [],
   "source": [
    "SEED = 42\n",
    "BATCH_SIZE = 8  # adjust depends on GPU's memory capacity\n",
    "MODELS = [\n",
    "    'jinaai/jina-embeddings-v2-small-en',\n",
    "    'jinaai/jina-embeddings-v2-base-en',\n",
    "    'nomic-ai/nomic-embed-text-v1.5',\n",
    "    'Alibaba-NLP/gte-large-en-v1.5',\n",
    "    'sentence-transformers/all-mpnet-base-v2',\n",
    "    'mixedbread-ai/mxbai-embed-large-v1',\n",
    "    'WhereIsAI/UAE-Large-V1'\n",
    "]"
   ]
  },
  {
   "cell_type": "code",
   "execution_count": 4,
   "metadata": {},
   "outputs": [],
   "source": [
    "df_train = pd.read_csv('../../dataset/v1/train.csv')\n",
    "df_test = pd.read_csv('../../dataset/v1/test.csv')\n",
    "\n",
    "labels = df_train.columns[3:].to_list()\n",
    "y_train = df_train[labels].to_numpy()\n",
    "y_test = df_test[labels].to_numpy()"
   ]
  },
  {
   "cell_type": "code",
   "execution_count": 5,
   "metadata": {},
   "outputs": [],
   "source": [
    "def evaluate(X_train, y_train, X_test, y_test, labels):\n",
    "    clf = LogisticRegression(\n",
    "        random_state=SEED,\n",
    "        max_iter=100\n",
    "    )\n",
    "    ovr = OneVsRestClassifier(clf, n_jobs=-1)\n",
    "\n",
    "    ovr.fit(X_train, y_train)\n",
    "    y_pred = ovr.predict(X_test)\n",
    "\n",
    "    accuracy = accuracy_score(y_test, y_pred)\n",
    "    print(f'Overall accuracy: {accuracy}')\n",
    "    for idx, label in enumerate(labels):\n",
    "        label_accuracy = accuracy_score(y_test[:, idx], y_pred[:, idx])\n",
    "        print(f'Accuracy {label}: {label_accuracy}')\n",
    "\n",
    "    f1 = f1_score(y_test, y_pred, average='macro')\n",
    "    print(f'F1 macro: {f1}')\n",
    "    print(\n",
    "        classification_report(y_test, y_pred, target_names=labels, digits=4, zero_division=0)\n",
    "    )"
   ]
  },
  {
   "cell_type": "code",
   "execution_count": 6,
   "metadata": {},
   "outputs": [],
   "source": [
    "def run(model_name: str):\n",
    "    print(f'Model name: {model_name}')\n",
    "\n",
    "    model = SentenceTransformer(\n",
    "        model_name, trust_remote_code=True\n",
    "    )\n",
    "    X_train = np.asarray(\n",
    "        model.encode(df_train['cleaned_review'].to_list(), batch_size=BATCH_SIZE)\n",
    "    )\n",
    "    X_test = np.asarray(\n",
    "        model.encode(df_test['cleaned_review'].to_list(), batch_size=BATCH_SIZE)\n",
    "    )\n",
    "\n",
    "    evaluate(X_train, y_train, X_test, y_test, labels)\n",
    "    # help prevent GPU OOM\n",
    "    del model, X_train, X_test\n",
    "    gc.collect()\n",
    "    torch.cuda.empty_cache()\n",
    "\n",
    "    print('='*50)"
   ]
  },
  {
   "cell_type": "code",
   "execution_count": 7,
   "metadata": {},
   "outputs": [
    {
     "name": "stdout",
     "output_type": "stream",
     "text": [
      "Model name: jinaai/jina-embeddings-v2-small-en\n"
     ]
    },
    {
     "name": "stderr",
     "output_type": "stream",
     "text": [
      "/mnt/db4/Git/srec/steam-review-aspect-dataset-github/.venv/lib/python3.10/site-packages/huggingface_hub/file_download.py:1132: FutureWarning: `resume_download` is deprecated and will be removed in version 1.0.0. Downloads always resume when possible. If you want to force a new download, use `force_download=True`.\n",
      "  warnings.warn(\n"
     ]
    },
    {
     "name": "stdout",
     "output_type": "stream",
     "text": [
      "Overall accuracy: 0.18625\n",
      "Accuracy label_recommended: 0.845\n",
      "Accuracy label_story: 0.78\n",
      "Accuracy label_gameplay: 0.825\n",
      "Accuracy label_visual: 0.74\n",
      "Accuracy label_audio: 0.815\n",
      "Accuracy label_technical: 0.83\n",
      "Accuracy label_price: 0.79\n",
      "Accuracy label_suggestion: 0.885\n",
      "F1 macro: 0.6436656125334517\n",
      "                   precision    recall  f1-score   support\n",
      "\n",
      "label_recommended     0.8589    0.9459    0.9003       148\n",
      "      label_story     0.7711    0.7191    0.7442        89\n",
      "   label_gameplay     0.8742    0.9026    0.8882       154\n",
      "     label_visual     0.7108    0.6782    0.6941        87\n",
      "      label_audio     0.6944    0.4902    0.5747        51\n",
      "  label_technical     0.7447    0.6140    0.6731        57\n",
      "      label_price     0.6000    0.3191    0.4167        47\n",
      " label_suggestion     0.4000    0.1905    0.2581        21\n",
      "\n",
      "        micro avg     0.7937    0.7355    0.7635       654\n",
      "        macro avg     0.7068    0.6075    0.6437       654\n",
      "     weighted avg     0.7747    0.7355    0.7482       654\n",
      "      samples avg     0.7840    0.7300    0.7302       654\n",
      "\n",
      "==================================================\n",
      "Model name: jinaai/jina-embeddings-v2-base-en\n"
     ]
    },
    {
     "name": "stderr",
     "output_type": "stream",
     "text": [
      "/mnt/db4/Git/srec/steam-review-aspect-dataset-github/.venv/lib/python3.10/site-packages/huggingface_hub/file_download.py:1132: FutureWarning: `resume_download` is deprecated and will be removed in version 1.0.0. Downloads always resume when possible. If you want to force a new download, use `force_download=True`.\n",
      "  warnings.warn(\n",
      "/mnt/db4/Git/srec/steam-review-aspect-dataset-github/.venv/lib/python3.10/site-packages/sklearn/linear_model/_logistic.py:469: ConvergenceWarning: lbfgs failed to converge (status=1):\n",
      "STOP: TOTAL NO. of ITERATIONS REACHED LIMIT.\n",
      "\n",
      "Increase the number of iterations (max_iter) or scale the data as shown in:\n",
      "    https://scikit-learn.org/stable/modules/preprocessing.html\n",
      "Please also refer to the documentation for alternative solver options:\n",
      "    https://scikit-learn.org/stable/modules/linear_model.html#logistic-regression\n",
      "  n_iter_i = _check_optimize_result(\n",
      "/mnt/db4/Git/srec/steam-review-aspect-dataset-github/.venv/lib/python3.10/site-packages/sklearn/linear_model/_logistic.py:469: ConvergenceWarning: lbfgs failed to converge (status=1):\n",
      "STOP: TOTAL NO. of ITERATIONS REACHED LIMIT.\n",
      "\n",
      "Increase the number of iterations (max_iter) or scale the data as shown in:\n",
      "    https://scikit-learn.org/stable/modules/preprocessing.html\n",
      "Please also refer to the documentation for alternative solver options:\n",
      "    https://scikit-learn.org/stable/modules/linear_model.html#logistic-regression\n",
      "  n_iter_i = _check_optimize_result(\n",
      "/mnt/db4/Git/srec/steam-review-aspect-dataset-github/.venv/lib/python3.10/site-packages/sklearn/linear_model/_logistic.py:469: ConvergenceWarning: lbfgs failed to converge (status=1):\n",
      "STOP: TOTAL NO. of ITERATIONS REACHED LIMIT.\n",
      "\n",
      "Increase the number of iterations (max_iter) or scale the data as shown in:\n",
      "    https://scikit-learn.org/stable/modules/preprocessing.html\n",
      "Please also refer to the documentation for alternative solver options:\n",
      "    https://scikit-learn.org/stable/modules/linear_model.html#logistic-regression\n",
      "  n_iter_i = _check_optimize_result(\n"
     ]
    },
    {
     "name": "stdout",
     "output_type": "stream",
     "text": [
      "Overall accuracy: 0.176875\n",
      "Accuracy label_recommended: 0.88\n",
      "Accuracy label_story: 0.805\n",
      "Accuracy label_gameplay: 0.815\n",
      "Accuracy label_visual: 0.77\n",
      "Accuracy label_audio: 0.805\n",
      "Accuracy label_technical: 0.855\n",
      "Accuracy label_price: 0.795\n",
      "Accuracy label_suggestion: 0.86\n",
      "F1 macro: 0.6618134122186495\n",
      "                   precision    recall  f1-score   support\n",
      "\n",
      "label_recommended     0.8924    0.9527    0.9216       148\n",
      "      label_story     0.8049    0.7416    0.7719        89\n",
      "   label_gameplay     0.8726    0.8896    0.8810       154\n",
      "     label_visual     0.7303    0.7471    0.7386        87\n",
      "      label_audio     0.6111    0.6471    0.6286        51\n",
      "  label_technical     0.7692    0.7018    0.7339        57\n",
      "      label_price     0.5882    0.4255    0.4938        47\n",
      " label_suggestion     0.1818    0.0952    0.1250        21\n",
      "\n",
      "        micro avg     0.7912    0.7706    0.7808       654\n",
      "        macro avg     0.6813    0.6501    0.6618       654\n",
      "     weighted avg     0.7769    0.7706    0.7718       654\n",
      "      samples avg     0.7825    0.7585    0.7434       654\n",
      "\n",
      "==================================================\n",
      "Model name: nomic-ai/nomic-embed-text-v1.5\n"
     ]
    },
    {
     "name": "stderr",
     "output_type": "stream",
     "text": [
      "/mnt/db4/Git/srec/steam-review-aspect-dataset-github/.venv/lib/python3.10/site-packages/huggingface_hub/file_download.py:1132: FutureWarning: `resume_download` is deprecated and will be removed in version 1.0.0. Downloads always resume when possible. If you want to force a new download, use `force_download=True`.\n",
      "  warnings.warn(\n",
      "<All keys matched successfully>\n",
      "/mnt/db4/Git/srec/steam-review-aspect-dataset-github/.venv/lib/python3.10/site-packages/sklearn/linear_model/_logistic.py:469: ConvergenceWarning: lbfgs failed to converge (status=1):\n",
      "STOP: TOTAL NO. of ITERATIONS REACHED LIMIT.\n",
      "\n",
      "Increase the number of iterations (max_iter) or scale the data as shown in:\n",
      "    https://scikit-learn.org/stable/modules/preprocessing.html\n",
      "Please also refer to the documentation for alternative solver options:\n",
      "    https://scikit-learn.org/stable/modules/linear_model.html#logistic-regression\n",
      "  n_iter_i = _check_optimize_result(\n",
      "/mnt/db4/Git/srec/steam-review-aspect-dataset-github/.venv/lib/python3.10/site-packages/sklearn/linear_model/_logistic.py:469: ConvergenceWarning: lbfgs failed to converge (status=1):\n",
      "STOP: TOTAL NO. of ITERATIONS REACHED LIMIT.\n",
      "\n",
      "Increase the number of iterations (max_iter) or scale the data as shown in:\n",
      "    https://scikit-learn.org/stable/modules/preprocessing.html\n",
      "Please also refer to the documentation for alternative solver options:\n",
      "    https://scikit-learn.org/stable/modules/linear_model.html#logistic-regression\n",
      "  n_iter_i = _check_optimize_result(\n",
      "/mnt/db4/Git/srec/steam-review-aspect-dataset-github/.venv/lib/python3.10/site-packages/sklearn/linear_model/_logistic.py:469: ConvergenceWarning: lbfgs failed to converge (status=1):\n",
      "STOP: TOTAL NO. of ITERATIONS REACHED LIMIT.\n",
      "\n",
      "Increase the number of iterations (max_iter) or scale the data as shown in:\n",
      "    https://scikit-learn.org/stable/modules/preprocessing.html\n",
      "Please also refer to the documentation for alternative solver options:\n",
      "    https://scikit-learn.org/stable/modules/linear_model.html#logistic-regression\n",
      "  n_iter_i = _check_optimize_result(\n",
      "/mnt/db4/Git/srec/steam-review-aspect-dataset-github/.venv/lib/python3.10/site-packages/sklearn/linear_model/_logistic.py:469: ConvergenceWarning: lbfgs failed to converge (status=1):\n",
      "STOP: TOTAL NO. of ITERATIONS REACHED LIMIT.\n",
      "\n",
      "Increase the number of iterations (max_iter) or scale the data as shown in:\n",
      "    https://scikit-learn.org/stable/modules/preprocessing.html\n",
      "Please also refer to the documentation for alternative solver options:\n",
      "    https://scikit-learn.org/stable/modules/linear_model.html#logistic-regression\n",
      "  n_iter_i = _check_optimize_result(\n"
     ]
    },
    {
     "name": "stdout",
     "output_type": "stream",
     "text": [
      "Overall accuracy: 0.175625\n",
      "Accuracy label_recommended: 0.905\n",
      "Accuracy label_story: 0.78\n",
      "Accuracy label_gameplay: 0.83\n",
      "Accuracy label_visual: 0.755\n",
      "Accuracy label_audio: 0.84\n",
      "Accuracy label_technical: 0.8\n",
      "Accuracy label_price: 0.84\n",
      "Accuracy label_suggestion: 0.845\n",
      "F1 macro: 0.6755646403834055\n",
      "                   precision    recall  f1-score   support\n",
      "\n",
      "label_recommended     0.9448    0.9257    0.9352       148\n",
      "      label_story     0.7922    0.6854    0.7349        89\n",
      "   label_gameplay     0.8947    0.8831    0.8889       154\n",
      "     label_visual     0.7317    0.6897    0.7101        87\n",
      "      label_audio     0.7209    0.6078    0.6596        51\n",
      "  label_technical     0.6393    0.6842    0.6610        57\n",
      "      label_price     0.7143    0.5319    0.6098        47\n",
      " label_suggestion     0.2222    0.1905    0.2051        21\n",
      "\n",
      "        micro avg     0.8042    0.7538    0.7782       654\n",
      "        macro avg     0.7075    0.6498    0.6756       654\n",
      "     weighted avg     0.8001    0.7538    0.7749       654\n",
      "      samples avg     0.7935    0.7421    0.7406       654\n",
      "\n",
      "==================================================\n",
      "Model name: Alibaba-NLP/gte-large-en-v1.5\n"
     ]
    },
    {
     "name": "stderr",
     "output_type": "stream",
     "text": [
      "/mnt/db4/Git/srec/steam-review-aspect-dataset-github/.venv/lib/python3.10/site-packages/huggingface_hub/file_download.py:1132: FutureWarning: `resume_download` is deprecated and will be removed in version 1.0.0. Downloads always resume when possible. If you want to force a new download, use `force_download=True`.\n",
      "  warnings.warn(\n",
      "/mnt/db4/Git/srec/steam-review-aspect-dataset-github/.venv/lib/python3.10/site-packages/sklearn/linear_model/_logistic.py:469: ConvergenceWarning: lbfgs failed to converge (status=1):\n",
      "STOP: TOTAL NO. of ITERATIONS REACHED LIMIT.\n",
      "\n",
      "Increase the number of iterations (max_iter) or scale the data as shown in:\n",
      "    https://scikit-learn.org/stable/modules/preprocessing.html\n",
      "Please also refer to the documentation for alternative solver options:\n",
      "    https://scikit-learn.org/stable/modules/linear_model.html#logistic-regression\n",
      "  n_iter_i = _check_optimize_result(\n",
      "/mnt/db4/Git/srec/steam-review-aspect-dataset-github/.venv/lib/python3.10/site-packages/sklearn/linear_model/_logistic.py:469: ConvergenceWarning: lbfgs failed to converge (status=1):\n",
      "STOP: TOTAL NO. of ITERATIONS REACHED LIMIT.\n",
      "\n",
      "Increase the number of iterations (max_iter) or scale the data as shown in:\n",
      "    https://scikit-learn.org/stable/modules/preprocessing.html\n",
      "Please also refer to the documentation for alternative solver options:\n",
      "    https://scikit-learn.org/stable/modules/linear_model.html#logistic-regression\n",
      "  n_iter_i = _check_optimize_result(\n",
      "/mnt/db4/Git/srec/steam-review-aspect-dataset-github/.venv/lib/python3.10/site-packages/sklearn/linear_model/_logistic.py:469: ConvergenceWarning: lbfgs failed to converge (status=1):\n",
      "STOP: TOTAL NO. of ITERATIONS REACHED LIMIT.\n",
      "\n",
      "Increase the number of iterations (max_iter) or scale the data as shown in:\n",
      "    https://scikit-learn.org/stable/modules/preprocessing.html\n",
      "Please also refer to the documentation for alternative solver options:\n",
      "    https://scikit-learn.org/stable/modules/linear_model.html#logistic-regression\n",
      "  n_iter_i = _check_optimize_result(\n"
     ]
    },
    {
     "name": "stdout",
     "output_type": "stream",
     "text": [
      "Overall accuracy: 0.1825\n",
      "Accuracy label_recommended: 0.91\n",
      "Accuracy label_story: 0.75\n",
      "Accuracy label_gameplay: 0.83\n",
      "Accuracy label_visual: 0.735\n",
      "Accuracy label_audio: 0.82\n",
      "Accuracy label_technical: 0.805\n",
      "Accuracy label_price: 0.815\n",
      "Accuracy label_suggestion: 0.875\n",
      "F1 macro: 0.672943278595528\n",
      "                   precision    recall  f1-score   support\n",
      "\n",
      "label_recommended     0.9221    0.9595    0.9404       148\n",
      "      label_story     0.7294    0.6966    0.7126        89\n",
      "   label_gameplay     0.8896    0.8896    0.8896       154\n",
      "     label_visual     0.7125    0.6552    0.6826        87\n",
      "      label_audio     0.6744    0.5686    0.6170        51\n",
      "  label_technical     0.6731    0.6140    0.6422        57\n",
      "      label_price     0.6250    0.5319    0.5747        47\n",
      " label_suggestion     0.3750    0.2857    0.3243        21\n",
      "\n",
      "        micro avg     0.7901    0.7538    0.7715       654\n",
      "        macro avg     0.7001    0.6501    0.6729       654\n",
      "     weighted avg     0.7804    0.7538    0.7659       654\n",
      "      samples avg     0.7834    0.7439    0.7394       654\n",
      "\n",
      "==================================================\n",
      "Model name: sentence-transformers/all-mpnet-base-v2\n"
     ]
    },
    {
     "data": {
      "application/vnd.jupyter.widget-view+json": {
       "model_id": "0e79ce7386ac48f4b6acd52b181ebc9c",
       "version_major": 2,
       "version_minor": 0
      },
      "text/plain": [
       "modules.json:   0%|          | 0.00/349 [00:00<?, ?B/s]"
      ]
     },
     "metadata": {},
     "output_type": "display_data"
    },
    {
     "data": {
      "application/vnd.jupyter.widget-view+json": {
       "model_id": "1564c535bfa549eeb0699c8df84f1828",
       "version_major": 2,
       "version_minor": 0
      },
      "text/plain": [
       "config_sentence_transformers.json:   0%|          | 0.00/116 [00:00<?, ?B/s]"
      ]
     },
     "metadata": {},
     "output_type": "display_data"
    },
    {
     "data": {
      "application/vnd.jupyter.widget-view+json": {
       "model_id": "8590ec03cdb4466e832cf8a44036fe38",
       "version_major": 2,
       "version_minor": 0
      },
      "text/plain": [
       "README.md:   0%|          | 0.00/10.6k [00:00<?, ?B/s]"
      ]
     },
     "metadata": {},
     "output_type": "display_data"
    },
    {
     "data": {
      "application/vnd.jupyter.widget-view+json": {
       "model_id": "3c091c340485420882e21f39b5495372",
       "version_major": 2,
       "version_minor": 0
      },
      "text/plain": [
       "sentence_bert_config.json:   0%|          | 0.00/53.0 [00:00<?, ?B/s]"
      ]
     },
     "metadata": {},
     "output_type": "display_data"
    },
    {
     "name": "stderr",
     "output_type": "stream",
     "text": [
      "/mnt/db4/Git/srec/steam-review-aspect-dataset-github/.venv/lib/python3.10/site-packages/huggingface_hub/file_download.py:1132: FutureWarning: `resume_download` is deprecated and will be removed in version 1.0.0. Downloads always resume when possible. If you want to force a new download, use `force_download=True`.\n",
      "  warnings.warn(\n"
     ]
    },
    {
     "data": {
      "application/vnd.jupyter.widget-view+json": {
       "model_id": "b0ef990edb7c4a75b814297b6076a609",
       "version_major": 2,
       "version_minor": 0
      },
      "text/plain": [
       "config.json:   0%|          | 0.00/571 [00:00<?, ?B/s]"
      ]
     },
     "metadata": {},
     "output_type": "display_data"
    },
    {
     "data": {
      "application/vnd.jupyter.widget-view+json": {
       "model_id": "ff138e21e03646e8a6e7c7eeb40a7711",
       "version_major": 2,
       "version_minor": 0
      },
      "text/plain": [
       "model.safetensors:   0%|          | 0.00/438M [00:00<?, ?B/s]"
      ]
     },
     "metadata": {},
     "output_type": "display_data"
    },
    {
     "data": {
      "application/vnd.jupyter.widget-view+json": {
       "model_id": "6785c395a42c43eeb0d95bd983b3e9f9",
       "version_major": 2,
       "version_minor": 0
      },
      "text/plain": [
       "tokenizer_config.json:   0%|          | 0.00/363 [00:00<?, ?B/s]"
      ]
     },
     "metadata": {},
     "output_type": "display_data"
    },
    {
     "data": {
      "application/vnd.jupyter.widget-view+json": {
       "model_id": "3386a250b9604607a93b3a39b99c6549",
       "version_major": 2,
       "version_minor": 0
      },
      "text/plain": [
       "vocab.txt:   0%|          | 0.00/232k [00:00<?, ?B/s]"
      ]
     },
     "metadata": {},
     "output_type": "display_data"
    },
    {
     "data": {
      "application/vnd.jupyter.widget-view+json": {
       "model_id": "0c955e4fed7c41fc89562d18a41e06c1",
       "version_major": 2,
       "version_minor": 0
      },
      "text/plain": [
       "tokenizer.json:   0%|          | 0.00/466k [00:00<?, ?B/s]"
      ]
     },
     "metadata": {},
     "output_type": "display_data"
    },
    {
     "data": {
      "application/vnd.jupyter.widget-view+json": {
       "model_id": "73c7b77578654445bf65e519d7d1d23a",
       "version_major": 2,
       "version_minor": 0
      },
      "text/plain": [
       "special_tokens_map.json:   0%|          | 0.00/239 [00:00<?, ?B/s]"
      ]
     },
     "metadata": {},
     "output_type": "display_data"
    },
    {
     "data": {
      "application/vnd.jupyter.widget-view+json": {
       "model_id": "54611c556b1d4304a2cdadae96a08015",
       "version_major": 2,
       "version_minor": 0
      },
      "text/plain": [
       "1_Pooling/config.json:   0%|          | 0.00/190 [00:00<?, ?B/s]"
      ]
     },
     "metadata": {},
     "output_type": "display_data"
    },
    {
     "name": "stdout",
     "output_type": "stream",
     "text": [
      "Overall accuracy: 0.185\n",
      "Accuracy label_recommended: 0.815\n",
      "Accuracy label_story: 0.81\n",
      "Accuracy label_gameplay: 0.845\n",
      "Accuracy label_visual: 0.715\n",
      "Accuracy label_audio: 0.81\n",
      "Accuracy label_technical: 0.81\n",
      "Accuracy label_price: 0.82\n",
      "Accuracy label_suggestion: 0.895\n",
      "F1 macro: 0.5853242860338892\n",
      "                   precision    recall  f1-score   support\n",
      "\n",
      "label_recommended     0.8136    0.9730    0.8862       148\n",
      "      label_story     0.8312    0.7191    0.7711        89\n",
      "   label_gameplay     0.8436    0.9805    0.9069       154\n",
      "     label_visual     0.6923    0.6207    0.6545        87\n",
      "      label_audio     0.8824    0.2941    0.4412        51\n",
      "  label_technical     0.8065    0.4386    0.5682        57\n",
      "      label_price     0.7895    0.3191    0.4545        47\n",
      " label_suggestion     0.0000    0.0000    0.0000        21\n",
      "\n",
      "        micro avg     0.8097    0.7156    0.7597       654\n",
      "        macro avg     0.7074    0.5431    0.5853       654\n",
      "     weighted avg     0.7838    0.7156    0.7227       654\n",
      "      samples avg     0.7945    0.7205    0.7353       654\n",
      "\n",
      "==================================================\n",
      "Model name: mixedbread-ai/mxbai-embed-large-v1\n"
     ]
    },
    {
     "name": "stderr",
     "output_type": "stream",
     "text": [
      "/mnt/db4/Git/srec/steam-review-aspect-dataset-github/.venv/lib/python3.10/site-packages/huggingface_hub/file_download.py:1132: FutureWarning: `resume_download` is deprecated and will be removed in version 1.0.0. Downloads always resume when possible. If you want to force a new download, use `force_download=True`.\n",
      "  warnings.warn(\n",
      "/mnt/db4/Git/srec/steam-review-aspect-dataset-github/.venv/lib/python3.10/site-packages/sklearn/linear_model/_logistic.py:469: ConvergenceWarning: lbfgs failed to converge (status=1):\n",
      "STOP: TOTAL NO. of ITERATIONS REACHED LIMIT.\n",
      "\n",
      "Increase the number of iterations (max_iter) or scale the data as shown in:\n",
      "    https://scikit-learn.org/stable/modules/preprocessing.html\n",
      "Please also refer to the documentation for alternative solver options:\n",
      "    https://scikit-learn.org/stable/modules/linear_model.html#logistic-regression\n",
      "  n_iter_i = _check_optimize_result(\n",
      "/mnt/db4/Git/srec/steam-review-aspect-dataset-github/.venv/lib/python3.10/site-packages/sklearn/linear_model/_logistic.py:469: ConvergenceWarning: lbfgs failed to converge (status=1):\n",
      "STOP: TOTAL NO. of ITERATIONS REACHED LIMIT.\n",
      "\n",
      "Increase the number of iterations (max_iter) or scale the data as shown in:\n",
      "    https://scikit-learn.org/stable/modules/preprocessing.html\n",
      "Please also refer to the documentation for alternative solver options:\n",
      "    https://scikit-learn.org/stable/modules/linear_model.html#logistic-regression\n",
      "  n_iter_i = _check_optimize_result(\n",
      "/mnt/db4/Git/srec/steam-review-aspect-dataset-github/.venv/lib/python3.10/site-packages/sklearn/linear_model/_logistic.py:469: ConvergenceWarning: lbfgs failed to converge (status=1):\n",
      "STOP: TOTAL NO. of ITERATIONS REACHED LIMIT.\n",
      "\n",
      "Increase the number of iterations (max_iter) or scale the data as shown in:\n",
      "    https://scikit-learn.org/stable/modules/preprocessing.html\n",
      "Please also refer to the documentation for alternative solver options:\n",
      "    https://scikit-learn.org/stable/modules/linear_model.html#logistic-regression\n",
      "  n_iter_i = _check_optimize_result(\n",
      "/mnt/db4/Git/srec/steam-review-aspect-dataset-github/.venv/lib/python3.10/site-packages/sklearn/linear_model/_logistic.py:469: ConvergenceWarning: lbfgs failed to converge (status=1):\n",
      "STOP: TOTAL NO. of ITERATIONS REACHED LIMIT.\n",
      "\n",
      "Increase the number of iterations (max_iter) or scale the data as shown in:\n",
      "    https://scikit-learn.org/stable/modules/preprocessing.html\n",
      "Please also refer to the documentation for alternative solver options:\n",
      "    https://scikit-learn.org/stable/modules/linear_model.html#logistic-regression\n",
      "  n_iter_i = _check_optimize_result(\n"
     ]
    },
    {
     "name": "stdout",
     "output_type": "stream",
     "text": [
      "Overall accuracy: 0.16375\n",
      "Accuracy label_recommended: 0.925\n",
      "Accuracy label_story: 0.815\n",
      "Accuracy label_gameplay: 0.84\n",
      "Accuracy label_visual: 0.76\n",
      "Accuracy label_audio: 0.835\n",
      "Accuracy label_technical: 0.84\n",
      "Accuracy label_price: 0.805\n",
      "Accuracy label_suggestion: 0.87\n",
      "F1 macro: 0.6989039220337027\n",
      "                   precision    recall  f1-score   support\n",
      "\n",
      "label_recommended     0.9404    0.9595    0.9498       148\n",
      "      label_story     0.7955    0.7865    0.7910        89\n",
      "   label_gameplay     0.8720    0.9286    0.8994       154\n",
      "     label_visual     0.7407    0.6897    0.7143        87\n",
      "      label_audio     0.7250    0.5686    0.6374        51\n",
      "  label_technical     0.7193    0.7193    0.7193        57\n",
      "      label_price     0.6111    0.4681    0.5301        47\n",
      " label_suggestion     0.3684    0.3333    0.3500        21\n",
      "\n",
      "        micro avg     0.8082    0.7859    0.7969       654\n",
      "        macro avg     0.7215    0.6817    0.6989       654\n",
      "     weighted avg     0.7999    0.7859    0.7911       654\n",
      "      samples avg     0.7959    0.7718    0.7593       654\n",
      "\n",
      "==================================================\n",
      "Model name: WhereIsAI/UAE-Large-V1\n"
     ]
    },
    {
     "name": "stderr",
     "output_type": "stream",
     "text": [
      "/mnt/db4/Git/srec/steam-review-aspect-dataset-github/.venv/lib/python3.10/site-packages/huggingface_hub/file_download.py:1132: FutureWarning: `resume_download` is deprecated and will be removed in version 1.0.0. Downloads always resume when possible. If you want to force a new download, use `force_download=True`.\n",
      "  warnings.warn(\n",
      "/mnt/db4/Git/srec/steam-review-aspect-dataset-github/.venv/lib/python3.10/site-packages/sklearn/linear_model/_logistic.py:469: ConvergenceWarning: lbfgs failed to converge (status=1):\n",
      "STOP: TOTAL NO. of ITERATIONS REACHED LIMIT.\n",
      "\n",
      "Increase the number of iterations (max_iter) or scale the data as shown in:\n",
      "    https://scikit-learn.org/stable/modules/preprocessing.html\n",
      "Please also refer to the documentation for alternative solver options:\n",
      "    https://scikit-learn.org/stable/modules/linear_model.html#logistic-regression\n",
      "  n_iter_i = _check_optimize_result(\n",
      "/mnt/db4/Git/srec/steam-review-aspect-dataset-github/.venv/lib/python3.10/site-packages/sklearn/linear_model/_logistic.py:469: ConvergenceWarning: lbfgs failed to converge (status=1):\n",
      "STOP: TOTAL NO. of ITERATIONS REACHED LIMIT.\n",
      "\n",
      "Increase the number of iterations (max_iter) or scale the data as shown in:\n",
      "    https://scikit-learn.org/stable/modules/preprocessing.html\n",
      "Please also refer to the documentation for alternative solver options:\n",
      "    https://scikit-learn.org/stable/modules/linear_model.html#logistic-regression\n",
      "  n_iter_i = _check_optimize_result(\n",
      "/mnt/db4/Git/srec/steam-review-aspect-dataset-github/.venv/lib/python3.10/site-packages/sklearn/linear_model/_logistic.py:469: ConvergenceWarning: lbfgs failed to converge (status=1):\n",
      "STOP: TOTAL NO. of ITERATIONS REACHED LIMIT.\n",
      "\n",
      "Increase the number of iterations (max_iter) or scale the data as shown in:\n",
      "    https://scikit-learn.org/stable/modules/preprocessing.html\n",
      "Please also refer to the documentation for alternative solver options:\n",
      "    https://scikit-learn.org/stable/modules/linear_model.html#logistic-regression\n",
      "  n_iter_i = _check_optimize_result(\n",
      "/mnt/db4/Git/srec/steam-review-aspect-dataset-github/.venv/lib/python3.10/site-packages/sklearn/linear_model/_logistic.py:469: ConvergenceWarning: lbfgs failed to converge (status=1):\n",
      "STOP: TOTAL NO. of ITERATIONS REACHED LIMIT.\n",
      "\n",
      "Increase the number of iterations (max_iter) or scale the data as shown in:\n",
      "    https://scikit-learn.org/stable/modules/preprocessing.html\n",
      "Please also refer to the documentation for alternative solver options:\n",
      "    https://scikit-learn.org/stable/modules/linear_model.html#logistic-regression\n",
      "  n_iter_i = _check_optimize_result(\n"
     ]
    },
    {
     "name": "stdout",
     "output_type": "stream",
     "text": [
      "Overall accuracy: 0.166875\n",
      "Accuracy label_recommended: 0.905\n",
      "Accuracy label_story: 0.795\n",
      "Accuracy label_gameplay: 0.845\n",
      "Accuracy label_visual: 0.75\n",
      "Accuracy label_audio: 0.83\n",
      "Accuracy label_technical: 0.86\n",
      "Accuracy label_price: 0.805\n",
      "Accuracy label_suggestion: 0.875\n",
      "F1 macro: 0.6945915681273175\n",
      "                   precision    recall  f1-score   support\n",
      "\n",
      "label_recommended     0.9216    0.9527    0.9369       148\n",
      "      label_story     0.7727    0.7640    0.7684        89\n",
      "   label_gameplay     0.8773    0.9286    0.9022       154\n",
      "     label_visual     0.7467    0.6437    0.6914        87\n",
      "      label_audio     0.7073    0.5686    0.6304        51\n",
      "  label_technical     0.7636    0.7368    0.7500        57\n",
      "      label_price     0.6176    0.4468    0.5185        47\n",
      " label_suggestion     0.3889    0.3333    0.3590        21\n",
      "\n",
      "        micro avg     0.8086    0.7752    0.7916       654\n",
      "        macro avg     0.7245    0.6718    0.6946       654\n",
      "     weighted avg     0.7982    0.7752    0.7843       654\n",
      "      samples avg     0.7995    0.7630    0.7536       654\n",
      "\n",
      "==================================================\n"
     ]
    }
   ],
   "source": [
    "for model in MODELS:\n",
    "    run(model)"
   ]
  }
 ],
 "metadata": {
  "language_info": {
   "name": "python"
  }
 },
 "nbformat": 4,
 "nbformat_minor": 2
}
