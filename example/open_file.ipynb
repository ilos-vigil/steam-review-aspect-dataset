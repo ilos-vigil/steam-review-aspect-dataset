{
 "cells": [
  {
   "cell_type": "code",
   "execution_count": 14,
   "metadata": {},
   "outputs": [],
   "source": [
    "import pandas as pd\n",
    "import vaex\n",
    "import pyarrow as pa"
   ]
  },
  {
   "cell_type": "code",
   "execution_count": 15,
   "metadata": {},
   "outputs": [
    {
     "name": "stdout",
     "output_type": "stream",
     "text": [
      "2.2.1\n",
      "{'vaex': '4.17.0', 'vaex-core': '4.17.1', 'vaex-viz': '0.5.4', 'vaex-hdf5': '0.14.1', 'vaex-server': '0.9.0', 'vaex-astro': '0.9.3', 'vaex-jupyter': '0.8.2', 'vaex-ml': '0.18.3'}\n",
      "15.0.2\n"
     ]
    }
   ],
   "source": [
    "print(pd.__version__)\n",
    "print(vaex.__version__)\n",
    "print(pa.__version__)"
   ]
  },
  {
   "cell_type": "code",
   "execution_count": 11,
   "metadata": {},
   "outputs": [
    {
     "name": "stdout",
     "output_type": "stream",
     "text": [
      "<class 'pandas.core.frame.DataFrame'>\n",
      "RangeIndex: 900 entries, 0 to 899\n",
      "Data columns (total 11 columns):\n",
      " #   Column             Non-Null Count  Dtype \n",
      "---  ------             --------------  ----- \n",
      " 0   appid              900 non-null    int64 \n",
      " 1   review             900 non-null    object\n",
      " 2   cleaned_review     900 non-null    object\n",
      " 3   label_recommended  900 non-null    int64 \n",
      " 4   label_story        900 non-null    int64 \n",
      " 5   label_gameplay     900 non-null    int64 \n",
      " 6   label_visual       900 non-null    int64 \n",
      " 7   label_audio        900 non-null    int64 \n",
      " 8   label_technical    900 non-null    int64 \n",
      " 9   label_price        900 non-null    int64 \n",
      " 10  label_suggestion   900 non-null    int64 \n",
      "dtypes: int64(9), object(2)\n",
      "memory usage: 77.5+ KB\n"
     ]
    }
   ],
   "source": [
    "# Read CSV\n",
    "df_train = pd.read_csv('../dataset/v1/train.csv')\n",
    "df_train.info()"
   ]
  },
  {
   "cell_type": "code",
   "execution_count": 18,
   "metadata": {},
   "outputs": [
    {
     "data": {
      "text/html": [
       "<style>.vaex-description pre {\n",
       "          max-width : 450px;\n",
       "          white-space : nowrap;\n",
       "          overflow : hidden;\n",
       "          text-overflow: ellipsis;\n",
       "        }\n",
       "\n",
       "        .vex-description pre:hover {\n",
       "          max-width : initial;\n",
       "          white-space: pre;\n",
       "        }</style>"
      ],
      "text/plain": [
       "<IPython.core.display.HTML object>"
      ]
     },
     "metadata": {},
     "output_type": "display_data"
    },
    {
     "data": {
      "text/html": [
       "<div><h2>no-name</h2> <b>rows</b>: 900</div><h2>Columns:</h2><table class='table-striped'><thead><tr><th>column</th><th>type</th><th>unit</th><th>description</th><th>expression</th></tr></thead><tr><td>appid</td><td>int64</td><td></td><td ><pre></pre></td><td></td></tr><tr><td>review</td><td>str</td><td></td><td ><pre></pre></td><td></td></tr><tr><td>cleaned_review</td><td>str</td><td></td><td ><pre></pre></td><td></td></tr><tr><td>label_recommended</td><td>int64</td><td></td><td ><pre></pre></td><td></td></tr><tr><td>label_story</td><td>int64</td><td></td><td ><pre></pre></td><td></td></tr><tr><td>label_gameplay</td><td>int64</td><td></td><td ><pre></pre></td><td></td></tr><tr><td>label_visual</td><td>int64</td><td></td><td ><pre></pre></td><td></td></tr><tr><td>label_audio</td><td>int64</td><td></td><td ><pre></pre></td><td></td></tr><tr><td>label_technical</td><td>int64</td><td></td><td ><pre></pre></td><td></td></tr><tr><td>label_price</td><td>int64</td><td></td><td ><pre></pre></td><td></td></tr><tr><td>label_suggestion</td><td>int64</td><td></td><td ><pre></pre></td><td></td></tr></table><h2>Data:</h2><table>\n",
       "<thead>\n",
       "<tr><th>#                              </th><th>appid  </th><th>review                                               </th><th>cleaned_review                                       </th><th>label_recommended  </th><th>label_story  </th><th>label_gameplay  </th><th>label_visual  </th><th>label_audio  </th><th>label_technical  </th><th>label_price  </th><th>label_suggestion  </th></tr>\n",
       "</thead>\n",
       "<tbody>\n",
       "<tr><td><i style='opacity: 0.6'>0</i>  </td><td>203160 </td><td>&#x27;Tomb Raider is a fun game that is really well m...  </td><td>&#x27;Tomb Raider is a fun game that is really well m...  </td><td>1                  </td><td>1            </td><td>1               </td><td>1             </td><td>0            </td><td>0                </td><td>1            </td><td>0                 </td></tr>\n",
       "<tr><td><i style='opacity: 0.6'>1</i>  </td><td>238320 </td><td>&#x27;Did you lost faith in parkur adventure, horror ...  </td><td>&#x27;Did you lost faith in parkur adventure, horror ...  </td><td>1                  </td><td>0            </td><td>1               </td><td>1             </td><td>0            </td><td>0                </td><td>1            </td><td>0                 </td></tr>\n",
       "<tr><td><i style='opacity: 0.6'>2</i>  </td><td>252490 </td><td>&#x27;After around an hour and a half of bad spawns, ...  </td><td>&#x27;After around an hour and a half of bad spawns, ...  </td><td>1                  </td><td>0            </td><td>1               </td><td>0             </td><td>0            </td><td>0                </td><td>0            </td><td>0                 </td></tr>\n",
       "<tr><td><i style='opacity: 0.6'>3</i>  </td><td>224760 </td><td>&quot;Fez is Phil Fish&#x27;s stupendous indie tour-de-for...  </td><td>&quot;Fez is Phil Fish&#x27;s stupendous indie tour-de-for...  </td><td>1                  </td><td>1            </td><td>1               </td><td>0             </td><td>0            </td><td>0                </td><td>0            </td><td>0                 </td></tr>\n",
       "<tr><td><i style='opacity: 0.6'>4</i>  </td><td>242680 </td><td>&quot;I&#x27;ve been completely in love with this game eve...  </td><td>&quot;I&#x27;ve been completely in love with this game eve...  </td><td>1                  </td><td>0            </td><td>1               </td><td>0             </td><td>0            </td><td>0                </td><td>0            </td><td>0                 </td></tr>\n",
       "<tr><td>...                            </td><td>...    </td><td>...                                                  </td><td>...                                                  </td><td>...                </td><td>...          </td><td>...             </td><td>...           </td><td>...          </td><td>...              </td><td>...          </td><td>...               </td></tr>\n",
       "<tr><td><i style='opacity: 0.6'>895</i></td><td>1243850</td><td>&#x27;came for the cleaning mechanics and total lack ...  </td><td>&#x27;came for the cleaning mechanics and total lack ...  </td><td>1                  </td><td>1            </td><td>1               </td><td>0             </td><td>0            </td><td>0                </td><td>0            </td><td>0                 </td></tr>\n",
       "<tr><td><i style='opacity: 0.6'>896</i></td><td>1812370</td><td>&quot;i don&#x27;t think i liked it :(\\n\\na richly illustrat...</td><td>&quot;i don&#x27;t think i liked it :(\\n\\na richly illustrat...</td><td>0                  </td><td>1            </td><td>1               </td><td>1             </td><td>0            </td><td>0                </td><td>0            </td><td>0                 </td></tr>\n",
       "<tr><td><i style='opacity: 0.6'>897</i></td><td>635260 </td><td>&quot;Horrible game couldn&#x27;t learn how to drift in 13...  </td><td>&quot;Horrible game couldn&#x27;t learn how to drift in 13...  </td><td>0                  </td><td>0            </td><td>1               </td><td>0             </td><td>0            </td><td>0                </td><td>0            </td><td>0                 </td></tr>\n",
       "<tr><td><i style='opacity: 0.6'>898</i></td><td>1259420</td><td>&#x27;Game made for gaystation. On PC controls suck a...  </td><td>&#x27;Game made for gaystation. On PC controls suck a...  </td><td>1                  </td><td>1            </td><td>1               </td><td>1             </td><td>0            </td><td>1                </td><td>1            </td><td>1                 </td></tr>\n",
       "<tr><td><i style='opacity: 0.6'>899</i></td><td>1568970</td><td>&quot;Y&#x27;all couldn&#x27;t let her have a happy ending, but...  </td><td>&quot;Y&#x27;all couldn&#x27;t let her have a happy ending, but...  </td><td>1                  </td><td>1            </td><td>0               </td><td>0             </td><td>0            </td><td>0                </td><td>0            </td><td>0                 </td></tr>\n",
       "</tbody>\n",
       "</table>"
      ],
      "text/plain": [
       "<IPython.core.display.HTML object>"
      ]
     },
     "metadata": {},
     "output_type": "display_data"
    }
   ],
   "source": [
    "# Read CSV (2)\n",
    "df_train = vaex.read_csv('../dataset/v1/train.csv')\n",
    "df_train.info()"
   ]
  },
  {
   "cell_type": "code",
   "execution_count": 5,
   "metadata": {},
   "outputs": [
    {
     "name": "stdout",
     "output_type": "stream",
     "text": [
      "<class 'pandas.core.frame.DataFrame'>\n",
      "RangeIndex: 900 entries, 0 to 899\n",
      "Data columns (total 11 columns):\n",
      " #   Column             Non-Null Count  Dtype \n",
      "---  ------             --------------  ----- \n",
      " 0   appid              900 non-null    int64 \n",
      " 1   review             900 non-null    object\n",
      " 2   cleaned_review     900 non-null    object\n",
      " 3   label_recommended  900 non-null    int64 \n",
      " 4   label_story        900 non-null    int64 \n",
      " 5   label_gameplay     900 non-null    int64 \n",
      " 6   label_visual       900 non-null    int64 \n",
      " 7   label_audio        900 non-null    int64 \n",
      " 8   label_technical    900 non-null    int64 \n",
      " 9   label_price        900 non-null    int64 \n",
      " 10  label_suggestion   900 non-null    int64 \n",
      "dtypes: int64(9), object(2)\n",
      "memory usage: 77.5+ KB\n"
     ]
    }
   ],
   "source": [
    "# Read JSON\n",
    "df_train = pd.read_json('../dataset/v1/train.json')\n",
    "df_train.info()"
   ]
  },
  {
   "cell_type": "code",
   "execution_count": 19,
   "metadata": {},
   "outputs": [
    {
     "data": {
      "text/html": [
       "<style>.vaex-description pre {\n",
       "          max-width : 450px;\n",
       "          white-space : nowrap;\n",
       "          overflow : hidden;\n",
       "          text-overflow: ellipsis;\n",
       "        }\n",
       "\n",
       "        .vex-description pre:hover {\n",
       "          max-width : initial;\n",
       "          white-space: pre;\n",
       "        }</style>"
      ],
      "text/plain": [
       "<IPython.core.display.HTML object>"
      ]
     },
     "metadata": {},
     "output_type": "display_data"
    },
    {
     "data": {
      "text/html": [
       "<div><h2>no-name</h2> <b>rows</b>: 900</div><h2>Columns:</h2><table class='table-striped'><thead><tr><th>column</th><th>type</th><th>unit</th><th>description</th><th>expression</th></tr></thead><tr><td>appid</td><td>int64</td><td></td><td ><pre></pre></td><td></td></tr><tr><td>review</td><td>str</td><td></td><td ><pre></pre></td><td></td></tr><tr><td>cleaned_review</td><td>str</td><td></td><td ><pre></pre></td><td></td></tr><tr><td>label_recommended</td><td>int64</td><td></td><td ><pre></pre></td><td></td></tr><tr><td>label_story</td><td>int64</td><td></td><td ><pre></pre></td><td></td></tr><tr><td>label_gameplay</td><td>int64</td><td></td><td ><pre></pre></td><td></td></tr><tr><td>label_visual</td><td>int64</td><td></td><td ><pre></pre></td><td></td></tr><tr><td>label_audio</td><td>int64</td><td></td><td ><pre></pre></td><td></td></tr><tr><td>label_technical</td><td>int64</td><td></td><td ><pre></pre></td><td></td></tr><tr><td>label_price</td><td>int64</td><td></td><td ><pre></pre></td><td></td></tr><tr><td>label_suggestion</td><td>int64</td><td></td><td ><pre></pre></td><td></td></tr></table><h2>Data:</h2><table>\n",
       "<thead>\n",
       "<tr><th>#                              </th><th>appid  </th><th>review                                               </th><th>cleaned_review                                       </th><th>label_recommended  </th><th>label_story  </th><th>label_gameplay  </th><th>label_visual  </th><th>label_audio  </th><th>label_technical  </th><th>label_price  </th><th>label_suggestion  </th></tr>\n",
       "</thead>\n",
       "<tbody>\n",
       "<tr><td><i style='opacity: 0.6'>0</i>  </td><td>203160 </td><td>&#x27;Tomb Raider is a fun game that is really well m...  </td><td>&#x27;Tomb Raider is a fun game that is really well m...  </td><td>1                  </td><td>1            </td><td>1               </td><td>1             </td><td>0            </td><td>0                </td><td>1            </td><td>0                 </td></tr>\n",
       "<tr><td><i style='opacity: 0.6'>1</i>  </td><td>238320 </td><td>&#x27;Did you lost faith in parkur adventure, horror ...  </td><td>&#x27;Did you lost faith in parkur adventure, horror ...  </td><td>1                  </td><td>0            </td><td>1               </td><td>1             </td><td>0            </td><td>0                </td><td>1            </td><td>0                 </td></tr>\n",
       "<tr><td><i style='opacity: 0.6'>2</i>  </td><td>252490 </td><td>&#x27;After around an hour and a half of bad spawns, ...  </td><td>&#x27;After around an hour and a half of bad spawns, ...  </td><td>1                  </td><td>0            </td><td>1               </td><td>0             </td><td>0            </td><td>0                </td><td>0            </td><td>0                 </td></tr>\n",
       "<tr><td><i style='opacity: 0.6'>3</i>  </td><td>224760 </td><td>&quot;Fez is Phil Fish&#x27;s stupendous indie tour-de-for...  </td><td>&quot;Fez is Phil Fish&#x27;s stupendous indie tour-de-for...  </td><td>1                  </td><td>1            </td><td>1               </td><td>0             </td><td>0            </td><td>0                </td><td>0            </td><td>0                 </td></tr>\n",
       "<tr><td><i style='opacity: 0.6'>4</i>  </td><td>242680 </td><td>&quot;I&#x27;ve been completely in love with this game eve...  </td><td>&quot;I&#x27;ve been completely in love with this game eve...  </td><td>1                  </td><td>0            </td><td>1               </td><td>0             </td><td>0            </td><td>0                </td><td>0            </td><td>0                 </td></tr>\n",
       "<tr><td>...                            </td><td>...    </td><td>...                                                  </td><td>...                                                  </td><td>...                </td><td>...          </td><td>...             </td><td>...           </td><td>...          </td><td>...              </td><td>...          </td><td>...               </td></tr>\n",
       "<tr><td><i style='opacity: 0.6'>895</i></td><td>1243850</td><td>&#x27;came for the cleaning mechanics and total lack ...  </td><td>&#x27;came for the cleaning mechanics and total lack ...  </td><td>1                  </td><td>1            </td><td>1               </td><td>0             </td><td>0            </td><td>0                </td><td>0            </td><td>0                 </td></tr>\n",
       "<tr><td><i style='opacity: 0.6'>896</i></td><td>1812370</td><td>&quot;i don&#x27;t think i liked it :(\\n\\na richly illustrat...</td><td>&quot;i don&#x27;t think i liked it :(\\n\\na richly illustrat...</td><td>0                  </td><td>1            </td><td>1               </td><td>1             </td><td>0            </td><td>0                </td><td>0            </td><td>0                 </td></tr>\n",
       "<tr><td><i style='opacity: 0.6'>897</i></td><td>635260 </td><td>&quot;Horrible game couldn&#x27;t learn how to drift in 13...  </td><td>&quot;Horrible game couldn&#x27;t learn how to drift in 13...  </td><td>0                  </td><td>0            </td><td>1               </td><td>0             </td><td>0            </td><td>0                </td><td>0            </td><td>0                 </td></tr>\n",
       "<tr><td><i style='opacity: 0.6'>898</i></td><td>1259420</td><td>&#x27;Game made for gaystation. On PC controls suck a...  </td><td>&#x27;Game made for gaystation. On PC controls suck a...  </td><td>1                  </td><td>1            </td><td>1               </td><td>1             </td><td>0            </td><td>1                </td><td>1            </td><td>1                 </td></tr>\n",
       "<tr><td><i style='opacity: 0.6'>899</i></td><td>1568970</td><td>&quot;Y&#x27;all couldn&#x27;t let her have a happy ending, but...  </td><td>&quot;Y&#x27;all couldn&#x27;t let her have a happy ending, but...  </td><td>1                  </td><td>1            </td><td>0               </td><td>0             </td><td>0            </td><td>0                </td><td>0            </td><td>0                 </td></tr>\n",
       "</tbody>\n",
       "</table>"
      ],
      "text/plain": [
       "<IPython.core.display.HTML object>"
      ]
     },
     "metadata": {},
     "output_type": "display_data"
    }
   ],
   "source": [
    "# Read JSON (2)\n",
    "df_train = vaex.from_json('../dataset/v1/train.json')\n",
    "df_train.info()"
   ]
  },
  {
   "cell_type": "code",
   "execution_count": 8,
   "metadata": {},
   "outputs": [
    {
     "data": {
      "text/html": [
       "<style>.vaex-description pre {\n",
       "          max-width : 450px;\n",
       "          white-space : nowrap;\n",
       "          overflow : hidden;\n",
       "          text-overflow: ellipsis;\n",
       "        }\n",
       "\n",
       "        .vex-description pre:hover {\n",
       "          max-width : initial;\n",
       "          white-space: pre;\n",
       "        }</style>"
      ],
      "text/plain": [
       "<IPython.core.display.HTML object>"
      ]
     },
     "metadata": {},
     "output_type": "display_data"
    },
    {
     "data": {
      "text/html": [
       "<div><h2>no-name</h2> <b>rows</b>: 900</div><h2>Columns:</h2><table class='table-striped'><thead><tr><th>column</th><th>type</th><th>unit</th><th>description</th><th>expression</th></tr></thead><tr><td>appid</td><td>int32</td><td></td><td ><pre></pre></td><td></td></tr><tr><td>review</td><td>str</td><td></td><td ><pre></pre></td><td></td></tr><tr><td>cleaned_review</td><td>str</td><td></td><td ><pre></pre></td><td></td></tr><tr><td>label_recommended</td><td>int32</td><td></td><td ><pre></pre></td><td></td></tr><tr><td>label_story</td><td>int32</td><td></td><td ><pre></pre></td><td></td></tr><tr><td>label_gameplay</td><td>int32</td><td></td><td ><pre></pre></td><td></td></tr><tr><td>label_visual</td><td>int32</td><td></td><td ><pre></pre></td><td></td></tr><tr><td>label_audio</td><td>int32</td><td></td><td ><pre></pre></td><td></td></tr><tr><td>label_technical</td><td>int32</td><td></td><td ><pre></pre></td><td></td></tr><tr><td>label_price</td><td>int32</td><td></td><td ><pre></pre></td><td></td></tr><tr><td>label_suggestion</td><td>int32</td><td></td><td ><pre></pre></td><td></td></tr></table><h2>Data:</h2><table>\n",
       "<thead>\n",
       "<tr><th>#                              </th><th>appid  </th><th>review                                               </th><th>cleaned_review                                       </th><th>label_recommended  </th><th>label_story  </th><th>label_gameplay  </th><th>label_visual  </th><th>label_audio  </th><th>label_technical  </th><th>label_price  </th><th>label_suggestion  </th></tr>\n",
       "</thead>\n",
       "<tbody>\n",
       "<tr><td><i style='opacity: 0.6'>0</i>  </td><td>203160 </td><td>&#x27;Tomb Raider is a fun game that is really well m...  </td><td>&#x27;Tomb Raider is a fun game that is really well m...  </td><td>1                  </td><td>1            </td><td>1               </td><td>1             </td><td>0            </td><td>0                </td><td>1            </td><td>0                 </td></tr>\n",
       "<tr><td><i style='opacity: 0.6'>1</i>  </td><td>238320 </td><td>&#x27;Did you lost faith in parkur adventure, horror ...  </td><td>&#x27;Did you lost faith in parkur adventure, horror ...  </td><td>1                  </td><td>0            </td><td>1               </td><td>1             </td><td>0            </td><td>0                </td><td>1            </td><td>0                 </td></tr>\n",
       "<tr><td><i style='opacity: 0.6'>2</i>  </td><td>252490 </td><td>&#x27;After around an hour and a half of bad spawns, ...  </td><td>&#x27;After around an hour and a half of bad spawns, ...  </td><td>1                  </td><td>0            </td><td>1               </td><td>0             </td><td>0            </td><td>0                </td><td>0            </td><td>0                 </td></tr>\n",
       "<tr><td><i style='opacity: 0.6'>3</i>  </td><td>224760 </td><td>&quot;Fez is Phil Fish&#x27;s stupendous indie tour-de-for...  </td><td>&quot;Fez is Phil Fish&#x27;s stupendous indie tour-de-for...  </td><td>1                  </td><td>1            </td><td>1               </td><td>0             </td><td>0            </td><td>0                </td><td>0            </td><td>0                 </td></tr>\n",
       "<tr><td><i style='opacity: 0.6'>4</i>  </td><td>242680 </td><td>&quot;I&#x27;ve been completely in love with this game eve...  </td><td>&quot;I&#x27;ve been completely in love with this game eve...  </td><td>1                  </td><td>0            </td><td>1               </td><td>0             </td><td>0            </td><td>0                </td><td>0            </td><td>0                 </td></tr>\n",
       "<tr><td>...                            </td><td>...    </td><td>...                                                  </td><td>...                                                  </td><td>...                </td><td>...          </td><td>...             </td><td>...           </td><td>...          </td><td>...              </td><td>...          </td><td>...               </td></tr>\n",
       "<tr><td><i style='opacity: 0.6'>895</i></td><td>1243850</td><td>&#x27;came for the cleaning mechanics and total lack ...  </td><td>&#x27;came for the cleaning mechanics and total lack ...  </td><td>1                  </td><td>1            </td><td>1               </td><td>0             </td><td>0            </td><td>0                </td><td>0            </td><td>0                 </td></tr>\n",
       "<tr><td><i style='opacity: 0.6'>896</i></td><td>1812370</td><td>&quot;i don&#x27;t think i liked it :(\\n\\na richly illustrat...</td><td>&quot;i don&#x27;t think i liked it :(\\n\\na richly illustrat...</td><td>0                  </td><td>1            </td><td>1               </td><td>1             </td><td>0            </td><td>0                </td><td>0            </td><td>0                 </td></tr>\n",
       "<tr><td><i style='opacity: 0.6'>897</i></td><td>635260 </td><td>&quot;Horrible game couldn&#x27;t learn how to drift in 13...  </td><td>&quot;Horrible game couldn&#x27;t learn how to drift in 13...  </td><td>0                  </td><td>0            </td><td>1               </td><td>0             </td><td>0            </td><td>0                </td><td>0            </td><td>0                 </td></tr>\n",
       "<tr><td><i style='opacity: 0.6'>898</i></td><td>1259420</td><td>&#x27;Game made for gaystation. On PC controls suck a...  </td><td>&#x27;Game made for gaystation. On PC controls suck a...  </td><td>1                  </td><td>1            </td><td>1               </td><td>1             </td><td>0            </td><td>1                </td><td>1            </td><td>1                 </td></tr>\n",
       "<tr><td><i style='opacity: 0.6'>899</i></td><td>1568970</td><td>&quot;Y&#x27;all couldn&#x27;t let her have a happy ending, but...  </td><td>&quot;Y&#x27;all couldn&#x27;t let her have a happy ending, but...  </td><td>1                  </td><td>1            </td><td>0               </td><td>0             </td><td>0            </td><td>0                </td><td>0            </td><td>0                 </td></tr>\n",
       "</tbody>\n",
       "</table>"
      ],
      "text/plain": [
       "<IPython.core.display.HTML object>"
      ]
     },
     "metadata": {},
     "output_type": "display_data"
    }
   ],
   "source": [
    "# Read Apache Arrow\n",
    "df_train = vaex.open('../dataset/v1/train.arrow')\n",
    "df_train.info()"
   ]
  }
 ],
 "metadata": {
  "kernelspec": {
   "display_name": ".venv",
   "language": "python",
   "name": "python3"
  },
  "language_info": {
   "codemirror_mode": {
    "name": "ipython",
    "version": 3
   },
   "file_extension": ".py",
   "mimetype": "text/x-python",
   "name": "python",
   "nbconvert_exporter": "python",
   "pygments_lexer": "ipython3",
   "version": "3.10.12"
  }
 },
 "nbformat": 4,
 "nbformat_minor": 2
}
