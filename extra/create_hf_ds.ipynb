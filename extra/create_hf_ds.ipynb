{
 "cells": [
  {
   "cell_type": "code",
   "execution_count": 1,
   "metadata": {},
   "outputs": [],
   "source": [
    "from datasets import load_dataset"
   ]
  },
  {
   "cell_type": "code",
   "execution_count": 2,
   "metadata": {},
   "outputs": [],
   "source": [
    "def preprocess_labels(example):\n",
    "    labels = []\n",
    "    for c in [\n",
    "        'label_recommended', 'label_story', 'label_gameplay', 'label_visual',\n",
    "        'label_audio', 'label_technical', 'label_price', 'label_suggestion'\n",
    "    ]:\n",
    "        labels.append(float(example[c]))\n",
    "        del example[c]\n",
    "    example['labels'] = labels\n",
    "    return example"
   ]
  },
  {
   "cell_type": "code",
   "execution_count": 3,
   "metadata": {},
   "outputs": [
    {
     "data": {
      "text/plain": [
       "DatasetDict({\n",
       "    train: Dataset({\n",
       "        features: ['appid', 'review', 'cleaned_review', 'label_recommended', 'label_story', 'label_gameplay', 'label_visual', 'label_audio', 'label_technical', 'label_price', 'label_suggestion'],\n",
       "        num_rows: 900\n",
       "    })\n",
       "    test: Dataset({\n",
       "        features: ['appid', 'review', 'cleaned_review', 'label_recommended', 'label_story', 'label_gameplay', 'label_visual', 'label_audio', 'label_technical', 'label_price', 'label_suggestion'],\n",
       "        num_rows: 200\n",
       "    })\n",
       "})"
      ]
     },
     "execution_count": 3,
     "metadata": {},
     "output_type": "execute_result"
    }
   ],
   "source": [
    "dataset = load_dataset(\n",
    "    'arrow',\n",
    "    data_files={\n",
    "        'train': '../dataset/v1/train.arrow',\n",
    "        'test': '../dataset/v1/test.arrow'\n",
    "    }\n",
    ")\n",
    "dataset"
   ]
  },
  {
   "cell_type": "code",
   "execution_count": 4,
   "metadata": {},
   "outputs": [
    {
     "data": {
      "text/plain": [
       "DatasetDict({\n",
       "    train: Dataset({\n",
       "        features: ['appid', 'review', 'cleaned_review', 'labels'],\n",
       "        num_rows: 900\n",
       "    })\n",
       "    test: Dataset({\n",
       "        features: ['appid', 'review', 'cleaned_review', 'labels'],\n",
       "        num_rows: 200\n",
       "    })\n",
       "})"
      ]
     },
     "execution_count": 4,
     "metadata": {},
     "output_type": "execute_result"
    }
   ],
   "source": [
    "dataset = dataset.map(preprocess_labels)\n",
    "dataset"
   ]
  },
  {
   "cell_type": "code",
   "execution_count": 5,
   "metadata": {},
   "outputs": [
    {
     "data": {
      "text/plain": [
       "{'appid': 341800,\n",
       " 'review': '[i]\"The Display says \\'Nothing\\'\"[/i]\\n\"Nothing or \\'Nothing\\'\"?\\n[i]\"It\\'s BLANK!\"[/i]\\n\"\\'Blank\\' OK Great. What is on the Middle Right button?\"\\n[i]\"NO!\"[/i]\\n\"Middle Right!\"\\n[i]\"NO!\"[/i]\\n\"What you you mean No!? I HAVE THE MANUAL!\"\\n\\n[h1]**BOOOOOOOOM**[/h1]\\n\\n10/10',\n",
       " 'cleaned_review': '\"The Display says \\'Nothing\\'\"\\n\"Nothing or \\'Nothing\\'\"?\\n\"It\\'s BLANK!\"\\n\"\\'Blank\\' OK Great. What is on the Middle Right button?\"\\n\"NO!\"\\n\"Middle Right!\"\\n\"NO!\"\\n\"What you you mean No!? I HAVE THE MANUAL!\"\\n\\n**BOOOOOOOOM**\\n\\n10/10',\n",
       " 'labels': [1.0, 0.0, 1.0, 0.0, 0.0, 0.0, 0.0, 0.0]}"
      ]
     },
     "execution_count": 5,
     "metadata": {},
     "output_type": "execute_result"
    }
   ],
   "source": [
    "dataset['train'][65]"
   ]
  },
  {
   "cell_type": "code",
   "execution_count": 6,
   "metadata": {},
   "outputs": [
    {
     "data": {
      "application/vnd.jupyter.widget-view+json": {
       "model_id": "c17b01e4b2834fea9765dc6a6a2a4021",
       "version_major": 2,
       "version_minor": 0
      },
      "text/plain": [
       "Saving the dataset (0/1 shards):   0%|          | 0/900 [00:00<?, ? examples/s]"
      ]
     },
     "metadata": {},
     "output_type": "display_data"
    },
    {
     "data": {
      "application/vnd.jupyter.widget-view+json": {
       "model_id": "795f1406ee5448328ab3562ce9251715",
       "version_major": 2,
       "version_minor": 0
      },
      "text/plain": [
       "Saving the dataset (0/1 shards):   0%|          | 0/200 [00:00<?, ? examples/s]"
      ]
     },
     "metadata": {},
     "output_type": "display_data"
    }
   ],
   "source": [
    "dataset.save_to_disk('./data')\n",
    "# afterwards upload manually to HF"
   ]
  }
 ],
 "metadata": {
  "language_info": {
   "name": "python"
  }
 },
 "nbformat": 4,
 "nbformat_minor": 2
}
